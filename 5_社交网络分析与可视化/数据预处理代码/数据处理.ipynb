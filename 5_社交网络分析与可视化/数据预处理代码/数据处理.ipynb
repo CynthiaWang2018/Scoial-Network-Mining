{
 "cells": [
  {
   "cell_type": "code",
   "execution_count": 1,
   "metadata": {},
   "outputs": [],
   "source": [
    "import pandas as pd\n",
    "import re"
   ]
  },
  {
   "cell_type": "code",
   "execution_count": 2,
   "metadata": {},
   "outputs": [],
   "source": [
    "user = pd.read_csv('D:\\\\social networks\\\\user.csv')\n",
    "movie = pd.read_csv('D:\\\\social networks\\\\movie.csv') "
   ]
  },
  {
   "cell_type": "markdown",
   "metadata": {},
   "source": [
    "## 将user数据集中的评论字典化 "
   ]
  },
  {
   "cell_type": "code",
   "execution_count": 3,
   "metadata": {},
   "outputs": [],
   "source": [
    "comment_dict = []\n",
    "for i in range(len(user.comments)):\n",
    "    str = user.comments[i]\n",
    "    movie_id = re.findall(r\"[{,](.+?)[:]\",str)\n",
    "    comments = re.findall(r\"[:](.+?)[！} ,]\",str)\n",
    "    comment_d = dict(zip(movie_id, comments))  \n",
    "    comment_dict.append(comment_d)"
   ]
  },
  {
   "cell_type": "code",
   "execution_count": 4,
   "metadata": {},
   "outputs": [],
   "source": [
    "user['comment_dict'] = comment_dict"
   ]
  },
  {
   "cell_type": "markdown",
   "metadata": {},
   "source": [
    "## 将user数据集中的rates字典化,并把所打分数转化为数值型（float） "
   ]
  },
  {
   "cell_type": "code",
   "execution_count": 5,
   "metadata": {},
   "outputs": [],
   "source": [
    "rates_dict = []\n",
    "movie_id = []\n",
    "for i in range(len(user.comments)):\n",
    "    str = user.rates[i]\n",
    "    movie_id = re.findall(r\"{u'(.+?)[': ]\",str)\n",
    "    movie_id_s = re.findall(r\", u'(.+?)[': ]\",str)\n",
    "    movie_id.extend(movie_id_s)\n",
    "    rate = re.findall(r\": u'(.+?)'\",str)\n",
    "    rate_float =  list(map(float,rate))#分数由字符型转为数值型\n",
    "    rates_d = dict(zip(movie_id, rate_float))  \n",
    "    rates_dict.append(rates_d)"
   ]
  },
  {
   "cell_type": "code",
   "execution_count": 6,
   "metadata": {},
   "outputs": [],
   "source": [
    "user['rates_dict'] = rates_dict"
   ]
  },
  {
   "cell_type": "markdown",
   "metadata": {
    "collapsed": true
   },
   "source": [
    "## 将user数据集中的name、following_id做出gephi的输入集"
   ]
  },
  {
   "cell_type": "code",
   "execution_count": 12,
   "metadata": {},
   "outputs": [],
   "source": [
    "k = 0\n",
    "fllowing_id_list = []\n",
    "name_source = []\n",
    "following_target = []\n",
    "for i in range(len(user.following_id)):\n",
    "    str = user.following_id[i]\n",
    "    fllowing_id_list = re.findall(r\"u'(.+?)'\",str)\n",
    "    for j in range(len(fllowing_id_list)):\n",
    "        if fllowing_id_list[j] in set(user.name):\n",
    "            name_source.append(user.name[i])\n",
    "            following_target.append(fllowing_id_list [j])\n",
    "            k = k + 1 \n",
    "        else:\n",
    "            continue"
   ]
  },
  {
   "cell_type": "code",
   "execution_count": 13,
   "metadata": {},
   "outputs": [],
   "source": [
    "input_dict = {\n",
    "    \"Source\":name_source,\n",
    "    \"Target\":following_target\n",
    "}\n",
    "gephi_input = pd.DataFrame(input_dict)"
   ]
  },
  {
   "cell_type": "markdown",
   "metadata": {},
   "source": [
    "输出gephi要用的表"
   ]
  },
  {
   "cell_type": "code",
   "execution_count": 10,
   "metadata": {},
   "outputs": [],
   "source": [
    "gephi_input.to_csv('gephi_input.csv',index=False,  header=True)"
   ]
  },
  {
   "cell_type": "markdown",
   "metadata": {},
   "source": [
    "## Surprise库所需要的数据：[user_id, product_id, rating]类型的数据——爬虫前"
   ]
  },
  {
   "cell_type": "code",
   "execution_count": 14,
   "metadata": {},
   "outputs": [],
   "source": [
    "k = 0\n",
    "user_id_list = []\n",
    "movie_id_list  = []\n",
    "rate_list = []\n",
    "movie_id = []\n",
    "for i in range(len(user.rates)):\n",
    "    str = user.rates[i]\n",
    "    movie_id = re.findall(r\"{u'(.+?)[': ]\",str)\n",
    "    movie_id_s = re.findall(r\", u'(.+?)[': ]\",str)\n",
    "    movie_id.extend(movie_id_s)\n",
    "    rate = re.findall(r\": u'(.+?)'\",str)\n",
    "    rate_float =  list(map(float,rate))#分数由字符型转为数值型\n",
    "    for j in range(len(movie_id)):\n",
    "        if int(movie_id[j]) in set(movie.id):\n",
    "            user_id_list.append(user.user_id[i])\n",
    "            movie_id_list.append(movie_id[j])\n",
    "            rate_list.append(rate_float[j])\n",
    "            k = k + 1 \n",
    "        else:\n",
    "            continue"
   ]
  },
  {
   "cell_type": "code",
   "execution_count": 15,
   "metadata": {},
   "outputs": [],
   "source": [
    "input_dict = {\n",
    "    \"user_id\":user_id_list,\n",
    "    \"movie_id\":movie_id_list,\n",
    "    \"rates\":rate_list\n",
    "}\n",
    "Surprise_input = pd.DataFrame(input_dict)"
   ]
  },
  {
   "cell_type": "code",
   "execution_count": 16,
   "metadata": {},
   "outputs": [],
   "source": [
    "Surprise_input.to_csv('Surprise_input.csv',index=False,  header=True)"
   ]
  }
 ],
 "metadata": {
  "kernelspec": {
   "display_name": "Python 3",
   "language": "python",
   "name": "python3"
  },
  "language_info": {
   "codemirror_mode": {
    "name": "ipython",
    "version": 3
   },
   "file_extension": ".py",
   "mimetype": "text/x-python",
   "name": "python",
   "nbconvert_exporter": "python",
   "pygments_lexer": "ipython3",
   "version": "3.6.6"
  }
 },
 "nbformat": 4,
 "nbformat_minor": 2
}
