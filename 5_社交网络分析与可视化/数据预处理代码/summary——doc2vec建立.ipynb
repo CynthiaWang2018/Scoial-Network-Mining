{
 "cells": [
  {
   "cell_type": "code",
   "execution_count": 1,
   "metadata": {},
   "outputs": [],
   "source": [
    "import warnings\n",
    "warnings.filterwarnings(\"ignore\")\n",
    "import jieba   # 分词包\n",
    "import numpy as np\n",
    "import codecs\n",
    "import pandas as pd"
   ]
  },
  {
   "cell_type": "code",
   "execution_count": 2,
   "metadata": {},
   "outputs": [],
   "source": [
    "from gensim.models import doc2vec\n",
    "from collections import namedtuple\n",
    "from nltk import word_tokenize\n",
    "from gensim.models.doc2vec import TaggedDocument\n",
    "import gensim"
   ]
  },
  {
   "cell_type": "code",
   "execution_count": 3,
   "metadata": {},
   "outputs": [
    {
     "name": "stdout",
     "output_type": "stream",
     "text": [
      "767\n"
     ]
    }
   ],
   "source": [
    "stopword= open('哈工大停用词表.txt','r')\n",
    "input = stopword.readlines()\n",
    "count = len(input)\n",
    "print(count)"
   ]
  },
  {
   "cell_type": "code",
   "execution_count": 4,
   "metadata": {},
   "outputs": [],
   "source": [
    "stopword = set(stopword)"
   ]
  },
  {
   "cell_type": "code",
   "execution_count": 5,
   "metadata": {},
   "outputs": [],
   "source": [
    "def lcut(Intro_movie):\n",
    "    segment=[]\n",
    "    segs = jieba.lcut(Intro_movie) # jiaba.lcut()   \n",
    "    for seg in segs:\n",
    "        if len(seg)>1 and seg!='\\r\\n'and (seg not in stopword):          \n",
    "            segment.append(seg)\n",
    "    return segment"
   ]
  },
  {
   "cell_type": "code",
   "execution_count": 6,
   "metadata": {},
   "outputs": [
    {
     "name": "stdout",
     "output_type": "stream",
     "text": [
      "1000\n"
     ]
    }
   ],
   "source": [
    "f = open('summary.txt','r',encoding='UTF-8')\n",
    "input = f.readlines()\n",
    "count = len(input)\n",
    "print(count)"
   ]
  },
  {
   "cell_type": "code",
   "execution_count": 7,
   "metadata": {},
   "outputs": [
    {
     "name": "stderr",
     "output_type": "stream",
     "text": [
      "Building prefix dict from the default dictionary ...\n",
      "Loading model from cache C:\\Users\\D\\AppData\\Local\\Temp\\jieba.cache\n",
      "Loading model cost 0.590 seconds.\n",
      "Prefix dict has been built succesfully.\n"
     ]
    }
   ],
   "source": [
    "output = open('output.seq','w',encoding='UTF-8')\n",
    "for line in input:\n",
    "    line = line.strip('\\n')\n",
    "    seg_list = lcut(line)\n",
    "    output.write(' '.join(seg_list)+'\\n')"
   ]
  },
  {
   "cell_type": "code",
   "execution_count": 8,
   "metadata": {},
   "outputs": [],
   "source": [
    "sentences= gensim.models.doc2vec.TaggedLineDocument('output.seq')\n",
    "model = gensim.models.Doc2Vec(size=353, window=10, min_count=5, workers=11,alpha=0.025, min_alpha=0.025, iter=20)\n",
    "model.build_vocab(sentences)#353:85%以上的简介短于这个\n",
    "model.train(sentences, epochs=model.iter, total_examples=model.corpus_count)"
   ]
  },
  {
   "cell_type": "code",
   "execution_count": 9,
   "metadata": {},
   "outputs": [
    {
     "name": "stdout",
     "output_type": "stream",
     "text": [
      "Model Saved\n"
     ]
    }
   ],
   "source": [
    "model.save(\"d2v.model\")\n",
    "print(\"Model Saved\")"
   ]
  }
 ],
 "metadata": {
  "kernelspec": {
   "display_name": "Python 3",
   "language": "python",
   "name": "python3"
  },
  "language_info": {
   "codemirror_mode": {
    "name": "ipython",
    "version": 3
   },
   "file_extension": ".py",
   "mimetype": "text/x-python",
   "name": "python",
   "nbconvert_exporter": "python",
   "pygments_lexer": "ipython3",
   "version": "3.6.6"
  }
 },
 "nbformat": 4,
 "nbformat_minor": 2
}
