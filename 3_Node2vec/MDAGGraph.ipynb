{
 "cells": [
  {
   "cell_type": "code",
   "execution_count": 1,
   "metadata": {},
   "outputs": [],
   "source": [
    "import pandas as pd\n",
    "import numpy as np\n",
    "import random\n",
    "import itertools"
   ]
  },
  {
   "cell_type": "code",
   "execution_count": 2,
   "metadata": {},
   "outputs": [
    {
     "data": {
      "text/html": [
       "<div>\n",
       "<style scoped>\n",
       "    .dataframe tbody tr th:only-of-type {\n",
       "        vertical-align: middle;\n",
       "    }\n",
       "\n",
       "    .dataframe tbody tr th {\n",
       "        vertical-align: top;\n",
       "    }\n",
       "\n",
       "    .dataframe thead th {\n",
       "        text-align: right;\n",
       "    }\n",
       "</style>\n",
       "<table border=\"1\" class=\"dataframe\">\n",
       "  <thead>\n",
       "    <tr style=\"text-align: right;\">\n",
       "      <th></th>\n",
       "      <th>Unnamed: 0</th>\n",
       "      <th>number</th>\n",
       "      <th>rate</th>\n",
       "      <th>title</th>\n",
       "      <th>url</th>\n",
       "      <th>id</th>\n",
       "      <th>directors</th>\n",
       "      <th>year</th>\n",
       "      <th>actors</th>\n",
       "      <th>type</th>\n",
       "      <th>countries</th>\n",
       "      <th>summary</th>\n",
       "    </tr>\n",
       "  </thead>\n",
       "  <tbody>\n",
       "    <tr>\n",
       "      <th>0</th>\n",
       "      <td>0</td>\n",
       "      <td>1</td>\n",
       "      <td>7.4</td>\n",
       "      <td>需要你！小美兮</td>\n",
       "      <td>https://movie.douban.com/subject/26977230/</td>\n",
       "      <td>26977230</td>\n",
       "      <td>金九晋</td>\n",
       "      <td>2017.0</td>\n",
       "      <td>吉媤恩,徐智勋</td>\n",
       "      <td>剧情,喜剧,爱情</td>\n",
       "      <td>韩国</td>\n",
       "      <td>相貌平平的21岁女孩敬丹，从十年前就对自己的好朋友，帅帅的联宇一见钟情。由于对自己的外表不自...</td>\n",
       "    </tr>\n",
       "    <tr>\n",
       "      <th>1</th>\n",
       "      <td>1</td>\n",
       "      <td>2</td>\n",
       "      <td>6.4</td>\n",
       "      <td>雪崩行动</td>\n",
       "      <td>https://movie.douban.com/subject/25939432/</td>\n",
       "      <td>25939432</td>\n",
       "      <td>马特·约翰逊</td>\n",
       "      <td>2016.0</td>\n",
       "      <td>马特·约翰逊,欧文·威廉姆斯,乔希·博尔斯,贾里德·拉伯</td>\n",
       "      <td>喜剧,惊悚</td>\n",
       "      <td>美国</td>\n",
       "      <td>1967 年,四位 CIA 探員以拍攝紀錄片的名義,欲揭穿 NASA 阿波羅計畫,卻意外將自...</td>\n",
       "    </tr>\n",
       "  </tbody>\n",
       "</table>\n",
       "</div>"
      ],
      "text/plain": [
       "   Unnamed: 0  number  rate    title  \\\n",
       "0           0       1   7.4  需要你！小美兮   \n",
       "1           1       2   6.4     雪崩行动   \n",
       "\n",
       "                                          url        id directors    year  \\\n",
       "0  https://movie.douban.com/subject/26977230/  26977230       金九晋  2017.0   \n",
       "1  https://movie.douban.com/subject/25939432/  25939432    马特·约翰逊  2016.0   \n",
       "\n",
       "                         actors      type countries  \\\n",
       "0                       吉媤恩,徐智勋  剧情,喜剧,爱情        韩国   \n",
       "1  马特·约翰逊,欧文·威廉姆斯,乔希·博尔斯,贾里德·拉伯     喜剧,惊悚        美国   \n",
       "\n",
       "                                             summary  \n",
       "0  相貌平平的21岁女孩敬丹，从十年前就对自己的好朋友，帅帅的联宇一见钟情。由于对自己的外表不自...  \n",
       "1  1967 年,四位 CIA 探員以拍攝紀錄片的名義,欲揭穿 NASA 阿波羅計畫,卻意外將自...  "
      ]
     },
     "execution_count": 2,
     "metadata": {},
     "output_type": "execute_result"
    }
   ],
   "source": [
    "df_movie = pd.read_csv('movie.csv',encoding='utf-8')\n",
    "df_movie.head(2)"
   ]
  },
  {
   "cell_type": "code",
   "execution_count": 3,
   "metadata": {},
   "outputs": [],
   "source": [
    "# movie index\n",
    "movie2index = np.array(range(len(df_movie)))\n",
    "movies = np.array(range(len(df_movie)))"
   ]
  },
  {
   "cell_type": "code",
   "execution_count": 4,
   "metadata": {},
   "outputs": [],
   "source": [
    "b=df_movie['actors'].apply(str)\n",
    "c=[i.split(',') for i in b]"
   ]
  },
  {
   "cell_type": "code",
   "execution_count": 5,
   "metadata": {},
   "outputs": [],
   "source": [
    "actor_set = set([])\n",
    "for i in c:\n",
    "    for a in i:\n",
    "        actor_set.add(a)"
   ]
  },
  {
   "cell_type": "code",
   "execution_count": 6,
   "metadata": {},
   "outputs": [
    {
     "data": {
      "text/plain": [
       "3143"
      ]
     },
     "execution_count": 6,
     "metadata": {},
     "output_type": "execute_result"
    }
   ],
   "source": [
    "len(actor_set)"
   ]
  },
  {
   "cell_type": "markdown",
   "metadata": {},
   "source": [
    "### 有3143个演员"
   ]
  },
  {
   "cell_type": "code",
   "execution_count": 7,
   "metadata": {},
   "outputs": [],
   "source": [
    "directors2 = list(df_movie[\"directors\"].values)"
   ]
  },
  {
   "cell_type": "code",
   "execution_count": 8,
   "metadata": {},
   "outputs": [],
   "source": [
    "# director index\n",
    "offset = len(df_movie)\n",
    "directors = list(df_movie[\"directors\"].values)\n",
    "directors = [d.strip().split(\"/\") for d in directors]"
   ]
  },
  {
   "cell_type": "markdown",
   "metadata": {},
   "source": [
    "### 有870个导演"
   ]
  },
  {
   "cell_type": "code",
   "execution_count": 9,
   "metadata": {},
   "outputs": [],
   "source": [
    "direct_set = set([])\n",
    "for i in directors:\n",
    "    for d in i:\n",
    "        direct_set.add(d)"
   ]
  },
  {
   "cell_type": "code",
   "execution_count": 10,
   "metadata": {},
   "outputs": [],
   "source": [
    "director2index = {}\n",
    "for i, d in enumerate(direct_set):\n",
    "    director2index[d] = i + offset "
   ]
  },
  {
   "cell_type": "code",
   "execution_count": 11,
   "metadata": {},
   "outputs": [],
   "source": [
    "# actor index\n",
    "offset = len(df_movie) + len(direct_set)"
   ]
  },
  {
   "cell_type": "code",
   "execution_count": 12,
   "metadata": {},
   "outputs": [],
   "source": [
    "actor2index = {}\n",
    "for i, a in enumerate(actor_set):\n",
    "    actor2index[a] = i + offset"
   ]
  },
  {
   "cell_type": "code",
   "execution_count": 13,
   "metadata": {},
   "outputs": [],
   "source": [
    "FILENAME = \"./douban.edgelist\"\n",
    "with open(FILENAME, \"w\") as f:\n",
    "    for movieId, directorIds, actorIds in zip(movies, directors, c):\n",
    "        m_idx = [str(movieId)]\n",
    "        d_idx = [str(director2index[i]) for i in directorIds]\n",
    "        a_idx = [str(actor2index[i]) for i in actorIds]\n",
    "        for a, b in itertools.product(m_idx, d_idx):\n",
    "            print(\"%s %s\" % (a,b), file=f)\n",
    "\n",
    "        for a, b in itertools.product(m_idx, a_idx):\n",
    "            print(\"%s %s\" % (a,b), file=f)\n",
    "\n",
    "        for a, b in itertools.product(a_idx, d_idx):\n",
    "            print(\"%s %s\" % (a,b), file=f)"
   ]
  },
  {
   "cell_type": "markdown",
   "metadata": {},
   "source": [
    "# 5013个node"
   ]
  },
  {
   "cell_type": "code",
   "execution_count": null,
   "metadata": {},
   "outputs": [],
   "source": []
  }
 ],
 "metadata": {
  "kernelspec": {
   "display_name": "Python 3",
   "language": "python",
   "name": "python3"
  },
  "language_info": {
   "codemirror_mode": {
    "name": "ipython",
    "version": 3
   },
   "file_extension": ".py",
   "mimetype": "text/x-python",
   "name": "python",
   "nbconvert_exporter": "python",
   "pygments_lexer": "ipython3",
   "version": "3.6.5"
  }
 },
 "nbformat": 4,
 "nbformat_minor": 2
}
