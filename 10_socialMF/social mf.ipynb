{
 "cells": [
  {
   "cell_type": "code",
   "execution_count": 1,
   "metadata": {},
   "outputs": [],
   "source": [
    "import numpy as np\n",
    "import scipy.sparse as sp\n",
    "import time"
   ]
  },
  {
   "cell_type": "code",
   "execution_count": 2,
   "metadata": {},
   "outputs": [],
   "source": [
    "import pandas as pd\n",
    "user = pd.read_csv('D:\\\\social networks\\\\user.csv')\n",
    "data_input = pd.read_csv('D:\\\\social networks\\\\gephi_input.csv')\n",
    "f = open('D:\\\\social networks\\\\movie.csv')\n",
    "movie = pd.read_csv(f) "
   ]
  },
  {
   "cell_type": "code",
   "execution_count": 3,
   "metadata": {},
   "outputs": [],
   "source": [
    "from sklearn.model_selection import train_test_split\n",
    "user_train, user_test = train_test_split(user, test_size=0.2, random_state=0)"
   ]
  },
  {
   "cell_type": "code",
   "execution_count": 4,
   "metadata": {},
   "outputs": [],
   "source": [
    "def socialMF(R,S,N,M,K,lambdaU,lambdaV,lambdaT,R_test,ul,il,utl,itl):#K算是隐特征个数#此处的S即为下面的T，是社交关系矩阵，目前只取了训练集上的\n",
    "   #R是训练集上的打分矩阵，R_test是测试集上的打分矩阵，N是训练集users的个数，M是电影的个数，ul,il是训练集压缩矩阵表示非零元素位置的两个数\n",
    "   #ul,il是测试集集压缩矩阵表示非零元素位置的两个数\n",
    "    def sigmoid(z):\n",
    "        return 1.0 / (1+np.exp(-z))\n",
    "    def dsigmoid(z):\n",
    "        return np.exp(-z)/np.power((1+np.exp(-z)),2)\n",
    "    def rmse(U,V,R_test,utl,itl):\n",
    "        error = (get_csrmat(sigmoid(U.dot(V.T)),utl,itl)-R).power(2).sum()/R.nnz\n",
    "        return 5*np.sqrt(error)\n",
    "    def mae(U,V,R_test,utl,itl):\n",
    "        error = abs(get_csrmat(sigmoid(U.dot(V.T)),utl,itl)-R).sum()/R.nnz\n",
    "        return error\n",
    "    def get_csrmat(mat,ul,il):\n",
    "        indx = ul*mat.shape[1]+il\n",
    "        return sp.csr_matrix((np.take(np.array(mat),indx),(ul,il)),shape=(N,M))\n",
    "    def costL(U,V):\n",
    "        tmp = U.dot(V.T)\n",
    "        Rx = get_csrmat(sigmoid(tmp),ul,il)\n",
    "        cost = 0.5*((R - Rx).power(2)).sum()+0.5*lambdaU*np.linalg.norm(U)**2+0.5*lambdaV*np.linalg.norm(V)**2\n",
    "        cost += 0.5*lambdaT*np.power(U-S.dot(U),2).sum()\n",
    "        return cost\n",
    "    def gradient(U,V):\n",
    "        dU = np.zeros(U.shape)\n",
    "        dV = np.zeros(V.shape)\n",
    "        dU = lambdaU*U\n",
    "        tmp = U.dot(V.T)\n",
    "        Rv = get_csrmat(dsigmoid(tmp),ul,il)\n",
    "        Rx = get_csrmat(sigmoid(tmp),ul,il)\n",
    "        dU += Rv.multiply((Rx-R)).dot(V)\n",
    "        dU += lambdaT*(U-S.dot(U))-lambdaT*S.T.dot((U-S.dot(U)))\n",
    "        dV = lambdaV*V\n",
    "        dV += (Rv.multiply((Rx-R))).T.dot(U)\n",
    "        # print dU,dV\n",
    "        if np.max(dU)>1:\n",
    "            dU = dU/np.max(dU)\n",
    "        if np.max(dV)>1:\n",
    "            dV = dV/np.max(dV)\n",
    "        return dU,dV\n",
    "\n",
    "    def train(U,V):\n",
    "        res=[]\n",
    "        steps=5*10**3\n",
    "        rate = 0.1\n",
    "        pregradU = 0\n",
    "        pregradV = 0\n",
    "        tol=1e-3\n",
    "        momentum = 0.9\n",
    "        stage = max(steps/100 , 1)\n",
    "        for step in range(steps):\n",
    "            start = time.time()\n",
    "            dU,dV = gradient(U,V)\n",
    "            dU = dU + momentum*pregradU\n",
    "            dV = dV + momentum*pregradV\n",
    "            pregradU = dU\n",
    "            pregradV = dV\n",
    "            if not step%stage and rate>0.001:\n",
    "                rate = 0.95*rate\n",
    "            U -= rate * dU\n",
    "            V -= rate * dV\n",
    "            e = costL(U,V)\n",
    "            res.append(e)\n",
    "            if not step%stage:\n",
    "                print (step,e,time.time() - start)\n",
    "            if step>100 and abs(sum(res[-3:])-sum(res[-13:-10]))<tol:\n",
    "                print(\"====================\") \n",
    "                print(\"stop in %d step\"%(step))\n",
    "                print(\"error is \",e)\n",
    "                print(\"====================\")  \n",
    "                break\n",
    "        return U, V\n",
    "    U = np.random.normal(0,0.01,size=(N,K))\n",
    "    V = np.random.normal(0,0.01,size=(M,K))\n",
    "    start = time.time()\n",
    "    U,V = train(U,V)\n",
    "    print (\"=================RESULT=======================\")\n",
    "    print ('K:%d,lambdaU:%s, lambdaV:%s,lambdaT:%s' \\\n",
    "            %(K,lambdaU,lambdaV,lambdaT))\n",
    "    print (\"rmse\",rmse(U,V,R_test,utl,itl))\n",
    "    print (\"mae\",mae(U,V,R_test,utl,itl))\n",
    "    print (\"time\",time.time() - start)\n",
    "    print(\"U\",U)\n",
    "    print(\"V\",V)\n",
    "    return 0"
   ]
  },
  {
   "cell_type": "code",
   "execution_count": 5,
   "metadata": {},
   "outputs": [],
   "source": [
    "N = 1000\n",
    "idx = np.random.permutation(range(N))\n",
    "user_train = user.loc[idx[:800]]\n",
    "user_train = user_train.reset_index(drop=True)\n",
    "user_test = user.loc[idx[800:]]\n",
    "user_test = user_test.reset_index(drop=True)"
   ]
  },
  {
   "cell_type": "code",
   "execution_count": 6,
   "metadata": {},
   "outputs": [],
   "source": [
    "N = len(user)\n",
    "M = len(movie)\n",
    "m = len(data_input)\n",
    "a = user_train['name']\n",
    "b = data_input.iloc[:,0]\n",
    "c = data_input.iloc[:,1]\n",
    "T= pd.DataFrame(columns = a, index = a) \n",
    "for i in range(m):\n",
    "    if b[i] in set(user_train.name):\n",
    "        if c[i] in set(user_train.name):\n",
    "            T.loc[b[i],c[i]]=1"
   ]
  },
  {
   "cell_type": "code",
   "execution_count": 7,
   "metadata": {},
   "outputs": [
    {
     "name": "stdout",
     "output_type": "stream",
     "text": [
      "get_T\n"
     ]
    }
   ],
   "source": [
    "T = T.fillna(0)#此处只留了训练集的社会关系矩阵矩阵,现在还是DataFrame格式的\n",
    "T =sp.dok_matrix(T)\n",
    "T = T.tocsr()\n",
    "print(\"get_T\")\n",
    "#================================================"
   ]
  },
  {
   "cell_type": "code",
   "execution_count": 9,
   "metadata": {},
   "outputs": [
    {
     "name": "stdout",
     "output_type": "stream",
     "text": [
      "get_R\n"
     ]
    }
   ],
   "source": [
    "import re\n",
    "rates_dict = []\n",
    "movie_id = []\n",
    "for i in range(len(user_train)):\n",
    "    str1 = user_train.rates[i]\n",
    "    movie_id = re.findall(r\"{u'(.+?)[': ]\",str1)\n",
    "    movie_id_s = re.findall(r\", u'(.+?)[': ]\",str1)\n",
    "    movie_id.extend(movie_id_s)\n",
    "    rate = re.findall(r\": u'(.+?)'\",str1)\n",
    "    rate_float =  list(map(float,rate))#分数由字符型转为数值型\n",
    "    a = []\n",
    "    b = []\n",
    "    for i,j in zip(movie_id,rate_float):\n",
    "        if int(i) in set(movie.id):\n",
    "            a.append(i)\n",
    "            b.append(j)\n",
    "    rates_d = dict(zip(a,b))\n",
    "    rates_dict.append(rates_d)\n",
    "r = pd.DataFrame(columns = movie.id, index = user_train.name)\n",
    "for i in range(800):\n",
    "    b = user_train.name\n",
    "    c = list(rates_dict[i].keys())\n",
    "    for j in range(len(c)):\n",
    "        r.loc[b[i],int(c[j])]=rates_dict[i][c[j]]\n",
    "r = r.fillna(0)\n",
    "R =sp.dok_matrix(r)\n",
    "R.tocsr()\n",
    "print(\"get_R\")"
   ]
  },
  {
   "cell_type": "code",
   "execution_count": 10,
   "metadata": {},
   "outputs": [
    {
     "name": "stdout",
     "output_type": "stream",
     "text": [
      "get_ul,il\n"
     ]
    }
   ],
   "source": [
    "keylist = np.array(R.todok().keys()).T\n",
    "ul = []\n",
    "il = []\n",
    "for i,j in list(keylist.tolist()):\n",
    "    ul.append(i)\n",
    "    il.append(j)\n",
    "ul = np.array(ul)\n",
    "il = np.array(il)\n",
    "print(\"get_ul,il\")"
   ]
  },
  {
   "cell_type": "code",
   "execution_count": 11,
   "metadata": {},
   "outputs": [
    {
     "name": "stdout",
     "output_type": "stream",
     "text": [
      "get_R_test\n"
     ]
    }
   ],
   "source": [
    "rates_dict = []\n",
    "movie_id = []\n",
    "for i in range(len(user_test)):\n",
    "    str1 = user_test.rates[i]\n",
    "    movie_id = re.findall(r\"{u'(.+?)[': ]\",str1)\n",
    "    movie_id_s = re.findall(r\", u'(.+?)[': ]\",str1)\n",
    "    movie_id.extend(movie_id_s)\n",
    "    rate = re.findall(r\": u'(.+?)'\",str1)\n",
    "    rate_float =  list(map(float,rate))#分数由字符型转为数值型\n",
    "    a = []\n",
    "    b = []\n",
    "    for i,j in zip(movie_id,rate_float):\n",
    "        if int(i) in set(movie.id):\n",
    "            a.append(i)\n",
    "            b.append(j)\n",
    "    rates_d = dict(zip(a,b))\n",
    "    rates_dict.append(rates_d)\n",
    "r = pd.DataFrame(columns = movie.id, index = user_test.name)\n",
    "for i in range(200):\n",
    "    b = user_test.name\n",
    "    c = list(rates_dict[i].keys())\n",
    "    for j in range(len(c)):\n",
    "        r.loc[b[i],int(c[j])]=rates_dict[i][c[j]]\n",
    "r = r.fillna(0)\n",
    "R_test =sp.dok_matrix(r)\n",
    "R_test.tocsr()\n",
    "print(\"get_R_test\")"
   ]
  },
  {
   "cell_type": "code",
   "execution_count": 12,
   "metadata": {},
   "outputs": [
    {
     "name": "stdout",
     "output_type": "stream",
     "text": [
      "get_utl,itl\n"
     ]
    }
   ],
   "source": [
    "keylist_R_test = np.array(R_test.todok().keys()).T\n",
    "utl = []\n",
    "itl = []\n",
    "for i,j in list(keylist.tolist()):\n",
    "    utl.append(i)\n",
    "    itl.append(i)\n",
    "utl = np.array(utl)\n",
    "itl = np.array(itl)    \n",
    "print(\"get_utl,itl\")"
   ]
  },
  {
   "cell_type": "code",
   "execution_count": 18,
   "metadata": {
    "collapsed": true
   },
   "outputs": [
    {
     "name": "stdout",
     "output_type": "stream",
     "text": [
      "0 152601.30054151555 0.1249699592590332\n",
      "50 110321.57208575479 0.09373021125793457\n",
      "100 110024.75087956396 0.10934782028198242\n",
      "150 110005.5144943833 0.10934591293334961\n",
      "200 110003.2958315714 0.09372615814208984\n",
      "250 110002.54256636719 0.09372782707214355\n",
      "300 110002.18536383769 0.09369921684265137\n",
      "350 110001.98890608914 0.10934829711914062\n",
      "400 110001.86993335397 0.10934948921203613\n",
      "450 110001.79270605861 0.09372806549072266\n",
      "500 110001.73988487545 0.10934877395629883\n",
      "550 110001.7022415684 0.10934972763061523\n",
      "600 110001.67450548724 0.10934734344482422\n",
      "650 110001.6534959202 0.1249380111694336\n",
      "700 110001.63720600627 0.10934877395629883\n",
      "750 110001.6243216367 0.12497067451477051\n",
      "800 110001.61395464657 0.1249992847442627\n",
      "850 110001.60548805889 0.12496805191040039\n",
      "900 110001.59848285126 0.12497115135192871\n",
      "950 110001.59261991682 0.124969482421875\n",
      "1000 110001.58766288002 0.12497091293334961\n",
      "1050 110001.58343365832 0.10934782028198242\n",
      "1100 110001.57979602837 0.14059162139892578\n",
      "1150 110001.57664434442 0.15621328353881836\n",
      "1200 110001.5738956474 0.1249704360961914\n",
      "1250 110001.5714840499 0.14062786102294922\n",
      "1300 110001.56935667832 0.17183947563171387\n",
      "1350 110001.56747069761 0.09373092651367188\n",
      "====================\n",
      "stop in 1388 step\n",
      "error is  110001.56618347703\n",
      "====================\n",
      "=================RESULT=======================\n",
      "K:50,lambdaU:0.01, lambdaV:0.01,lambdaT:0.02\n",
      "rmse 53.568853965675615\n",
      "mae 4.403975389113338\n",
      "time 165.5913963317871\n",
      "U [[-0.24687282 -0.39073451 -0.3363532  ... -0.23401454 -0.10795501\n",
      "  -0.03775151]\n",
      " [-0.03580277  0.49952978 -0.12581662 ... -0.12576538  0.44950153\n",
      "  -0.49978205]\n",
      " [-0.24357137 -0.3864653  -0.3883097  ... -0.24366184 -0.11677422\n",
      "  -0.02874193]\n",
      " ...\n",
      " [-0.26603828 -0.36582617 -0.30202456 ... -0.28730618 -0.16658205\n",
      "  -0.00882702]\n",
      " [-0.30916934 -0.62371244 -0.54581484 ... -0.26060074 -0.13968455\n",
      "  -0.03271234]\n",
      " [-0.23367323 -0.48531336 -0.37489497 ... -0.22105033 -0.12692627\n",
      "  -0.04623249]]\n",
      "V [[-0.78584214 -1.10839494 -1.21161302 ... -0.92122225 -0.34337841\n",
      "  -0.09717966]\n",
      " [-1.10310865 -0.20708197 -0.19534501 ... -1.06478683 -0.6298035\n",
      "   0.12276726]\n",
      " [-0.96032424 -0.90270249 -0.92956713 ... -1.01017863 -0.37043491\n",
      "   0.12284234]\n",
      " ...\n",
      " [-0.41898639 -0.73137828 -0.66118778 ... -0.40805895 -0.21524347\n",
      "  -0.05423608]\n",
      " [-0.51474353 -1.21209647 -0.76540377 ... -0.55771894 -0.29674138\n",
      "  -0.07047455]\n",
      " [-0.6380371  -0.77070797 -0.86569176 ... -0.69157375 -0.25756738\n",
      "  -0.07687666]]\n"
     ]
    },
    {
     "data": {
      "text/plain": [
       "0"
      ]
     },
     "execution_count": 18,
     "metadata": {},
     "output_type": "execute_result"
    }
   ],
   "source": [
    "N = 800\n",
    "M = 1000\n",
    "lambdaU,lambdaV,lambdaT,K = 0.01, 0.01, 0.02, 50\n",
    "socialMF(R,T,N,M,K,lambdaU,lambdaV,lambdaT,R_test,ul,il,utl,itl)"
   ]
  }
 ],
 "metadata": {
  "kernelspec": {
   "display_name": "Python 3",
   "language": "python",
   "name": "python3"
  },
  "language_info": {
   "codemirror_mode": {
    "name": "ipython",
    "version": 3
   },
   "file_extension": ".py",
   "mimetype": "text/x-python",
   "name": "python",
   "nbconvert_exporter": "python",
   "pygments_lexer": "ipython3",
   "version": "3.6.6"
  }
 },
 "nbformat": 4,
 "nbformat_minor": 2
}
